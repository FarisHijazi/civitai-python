{
  "cells": [
    {
      "cell_type": "markdown",
      "metadata": {},
      "source": [
        "# Civitai SDK Text2Img Example\n",
        "This notebook demonstrates how to generate an image using the Civitai SDK."
      ]
    },
    {
      "cell_type": "code",
      "execution_count": null,
      "metadata": {},
      "outputs": [],
      "source": [
        "%pip install civitai\n",
        "%pip install ipython"
      ]
    },
    {
      "cell_type": "code",
      "execution_count": 2,
      "metadata": {},
      "outputs": [],
      "source": [
        "# Import the Civitai SDK\n",
        "import civitai\n",
        "import os\n",
        "\n",
        "api_token = input(\"Enter your Civitai API token: \")\n",
        "os.environ['CIVITAI_API_TOKEN'] = api_token\n"
      ]
    },
    {
      "cell_type": "markdown",
      "metadata": {},
      "source": [
        "## Create an Image"
      ]
    },
    {
      "cell_type": "code",
      "execution_count": null,
      "metadata": {},
      "outputs": [],
      "source": [
        "# Define the input parameters for the image creation\n",
        "input_params = {\n",
        "    \"model\": \"urn:air:sd1:checkpoint:civitai:4201@130072\",\n",
        "    \"params\": {\n",
        "        \"prompt\": \"A cat\",\n",
        "        \"negativePrompt\": \"A dog\",\n",
        "        \"scheduler\": \"EulerA\",\n",
        "        \"steps\": 30,\n",
        "        \"cfgScale\": 10,\n",
        "        \"width\": 768,\n",
        "        \"height\": 512,\n",
        "        \"seed\": -1,\n",
        "        \"clipSkip\": 1\n",
        "    },\n",
        "}\n",
        "\n",
        "# Generate the image\n",
        "response = civitai.image.create(input_params, wait=True)\n",
        "print(\"Response:\", response)"
      ]
    },
    {
      "cell_type": "markdown",
      "metadata": {},
      "source": [
        "## Display the Created Image"
      ]
    },
    {
      "cell_type": "code",
      "execution_count": null,
      "metadata": {},
      "outputs": [],
      "source": [
        "from IPython.display import Image, display\n",
        "\n",
        "# Assuming the response contains a direct URL to the image\n",
        "if response and 'jobs' in response and 'result' in response['jobs'][0]:\n",
        "    image_url = response['jobs'][0]['result'].get('blobUrl')\n",
        "    display(Image(url=image_url))\n",
        "else:\n",
        "    print(\"No image was created, or the job is not yet complete.\")"
      ]
    }
  ],
  "metadata": {
    "kernelspec": {
      "display_name": "Python 3",
      "language": "python",
      "name": "python3"
    },
    "language_info": {
      "codemirror_mode": {
        "name": "ipython",
        "version": 3
      },
      "file_extension": ".py",
      "mimetype": "text/x-python",
      "name": "python",
      "nbconvert_exporter": "python",
      "pygments_lexer": "ipython3",
      "version": "3.12.2"
    }
  },
  "nbformat": 4,
  "nbformat_minor": 4
}
